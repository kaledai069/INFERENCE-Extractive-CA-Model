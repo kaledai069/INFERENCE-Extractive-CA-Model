{
 "cells": [
  {
   "cell_type": "code",
   "execution_count": 21,
   "id": "2f231394",
   "metadata": {},
   "outputs": [],
   "source": [
    "import re\n",
    "from collections import defaultdict\n",
    "import string\n",
    "import requests\n",
    "import json\n",
    "from scipy.special import softmax\n",
    "import numpy as np\n",
    "from Models_inf import answer_clues, setup_closedbook\n",
    "from Strict_json import json_CA_json_converter\n",
    "from Crossword_inf import Crossword\n",
    "import datetime\n",
    "from tqdm import tqdm"
   ]
  },
  {
   "cell_type": "code",
   "execution_count": 9,
   "id": "c8abb3e8",
   "metadata": {},
   "outputs": [],
   "source": [
    "def getGrid(dateStr):\n",
    "    headers = {\n",
    "        'Referer': 'https://www.xwordinfo.com/JSON/'\n",
    "    }\n",
    "    # mm/dd/yyyy\n",
    "    url = 'https://www.xwordinfo.com/JSON/Data.ashx?date=' + dateStr\n",
    "    response = requests.get(url, headers=headers)\n",
    "    context = {}\n",
    "    grid_data = {}\n",
    "    if response.status_code == 200:\n",
    "        bytevalue = response.content\n",
    "        jsonText = bytevalue.decode('utf-8').replace(\"'\", '\"')\n",
    "        grid_data = json.loads(jsonText)\n",
    "        return grid_data\n",
    "    else:\n",
    "        print(f\"Request failed with status code {response.status_code}.\")"
   ]
  },
  {
   "cell_type": "code",
   "execution_count": 14,
   "id": "54996b56",
   "metadata": {},
   "outputs": [],
   "source": [
    "def extract_data_from_puz(puzzle):\n",
    "    puzzle = json_CA_json_converter(puzzle, False)\n",
    "    for dim in ['across', 'down']:\n",
    "        for grid_num in puzzle['clues'][dim].keys():\n",
    "            clue_answer_list = puzzle['clues'][dim][grid_num]\n",
    "            clue_section = clue_answer_list[0]\n",
    "            ans_section = clue_answer_list[1]\n",
    "            clue_section = clue_section.replace(\"&quot;\", \"\").replace(\"&#39;\", \"\").replace(\"<em>\", \"\").replace(\"</em>\", \"\")\n",
    "            puzzle['clues'][dim][grid_num] = [clue_section, ans_section]\n",
    "            \n",
    "    all_clues = puzzle['clues']\n",
    "    across_clue_data = []\n",
    "    down_clue_data = []\n",
    "    \n",
    "    for dim in ['across', 'down']:\n",
    "        for key in all_clues[dim].keys():\n",
    "            clue = all_clues[dim][key][0]\n",
    "            if dim == 'across':\n",
    "                across_clue_data.append([key, clue])\n",
    "            else:\n",
    "                down_clue_data.append([key, clue])\n",
    "            \n",
    "    all_clue_info = [across_clue_data, down_clue_data]\n",
    "    crossword = Crossword(puzzle)\n",
    "    all_pairs = []\n",
    "    for var in crossword.variables:\n",
    "        all_pairs.append((crossword.variables[var]['clue'], crossword.variables[var]['gold']))\n",
    "    return all_pairs"
   ]
  },
  {
   "cell_type": "code",
   "execution_count": 24,
   "id": "7bad1207",
   "metadata": {},
   "outputs": [
    {
     "name": "stderr",
     "output_type": "stream",
     "text": [
      " 79%|█████████████████████████████████████████████████▉             | 23/29 [00:24<00:06,  1.09s/it]"
     ]
    },
    {
     "name": "stdout",
     "output_type": "stream",
     "text": [
      "Problem with fetching data!!!\n"
     ]
    },
    {
     "name": "stderr",
     "output_type": "stream",
     "text": [
      "100%|███████████████████████████████████████████████████████████████| 29/29 [00:31<00:00,  1.08s/it]\n"
     ]
    }
   ],
   "source": [
    "start_date = datetime.date(2023, 7, 1)\n",
    "end_date = datetime.date(2023, 7, 30)\n",
    "overall_data = []\n",
    "current_date = start_date\n",
    "\n",
    "for i in tqdm(range((end_date - start_date).days), ncols = 100):\n",
    "    formatted_date = current_date.strftime('%m/%d/%Y')\n",
    "    try:\n",
    "        puzzle = getGrid(formatted_date)\n",
    "        overall_data.extend(extract_data_from_puz(puzzle))\n",
    "    except:\n",
    "        print(\"Problem with fetching data!!!\")\n",
    "    current_date += datetime.timedelta(days = 1)"
   ]
  },
  {
   "cell_type": "code",
   "execution_count": 30,
   "id": "950b62c1",
   "metadata": {},
   "outputs": [],
   "source": [
    "all_clues = [clue for clue, _ in overall_data]"
   ]
  },
  {
   "cell_type": "code",
   "execution_count": 32,
   "id": "1bda590e",
   "metadata": {},
   "outputs": [],
   "source": [
    "MODEL_PATH = \"./Inference_components/distilbert_EPOCHs_7_COMPLETE.bin\", \n",
    "ANS_TSV_PATH = \"./Inference_components/all_answer_list.tsv\",\n",
    "DENSE_EMBD_PATH = \"./Inference_components/distilbert_7_epochs_embeddings.pkl\"\n",
    "MODEL_TYPE = \"distilbert\""
   ]
  },
  {
   "cell_type": "code",
   "execution_count": null,
   "id": "b7d39821",
   "metadata": {},
   "outputs": [
    {
     "name": "stderr",
     "output_type": "stream",
     "text": [
      "Overriding args parameter value from checkpoint state. Param = do_lower_case, value = True\n",
      "Overriding args parameter value from checkpoint state. Param = pretrained_model_cfg, value = distilbert-base-uncased\n",
      "Overriding args parameter value from checkpoint state. Param = encoder_model_type, value = hf_distilbert\n",
      "Overriding args parameter value from checkpoint state. Param = sequence_length, value = 32\n"
     ]
    }
   ],
   "source": [
    "dpr = setup_closedbook(MODEL_PATH, ANS_TSV_PATH, DENSE_EMBD_PATH, 0, MODEL_TYPE)\n",
    "all_words, all_scores = answer_clues(dpr, all_clues, max_answers = 40000, output_strings=True) "
   ]
  },
  {
   "cell_type": "code",
   "execution_count": null,
   "id": "8cbd6ded",
   "metadata": {},
   "outputs": [],
   "source": [
    "count = 0\n",
    "for i, answer_found_list in enumerate(all_words):\n",
    "    correct_answer = all_answers[i]\n",
    "    if correct_answer in answer_found_list[:1000]:\n",
    "        count += 1\n",
    "print(count / len(all_words))"
   ]
  },
  {
   "cell_type": "code",
   "execution_count": null,
   "id": "b8c2b744",
   "metadata": {},
   "outputs": [],
   "source": []
  }
 ],
 "metadata": {
  "kernelspec": {
   "display_name": "Python 3 (ipykernel)",
   "language": "python",
   "name": "python3"
  },
  "language_info": {
   "codemirror_mode": {
    "name": "ipython",
    "version": 3
   },
   "file_extension": ".py",
   "mimetype": "text/x-python",
   "name": "python",
   "nbconvert_exporter": "python",
   "pygments_lexer": "ipython3",
   "version": "3.11.4"
  }
 },
 "nbformat": 4,
 "nbformat_minor": 5
}
